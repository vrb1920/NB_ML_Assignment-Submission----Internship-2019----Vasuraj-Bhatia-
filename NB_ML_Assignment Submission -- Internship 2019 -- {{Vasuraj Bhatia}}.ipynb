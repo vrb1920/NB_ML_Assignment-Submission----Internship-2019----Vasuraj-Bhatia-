{
 "cells": [
  {
   "cell_type": "code",
   "execution_count": 45,
   "metadata": {},
   "outputs": [],
   "source": [
    "import pandas as pd\n",
    "import numpy as np\n",
    "import matplotlib.pyplot as plt\n",
    "import seaborn as sns\n",
    "from sklearn.cluster import KMeans"
   ]
  },
  {
   "cell_type": "code",
   "execution_count": 88,
   "metadata": {},
   "outputs": [
    {
     "data": {
      "text/html": [
       "<div>\n",
       "<style scoped>\n",
       "    .dataframe tbody tr th:only-of-type {\n",
       "        vertical-align: middle;\n",
       "    }\n",
       "\n",
       "    .dataframe tbody tr th {\n",
       "        vertical-align: top;\n",
       "    }\n",
       "\n",
       "    .dataframe thead th {\n",
       "        text-align: right;\n",
       "    }\n",
       "</style>\n",
       "<table border=\"1\" class=\"dataframe\">\n",
       "  <thead>\n",
       "    <tr style=\"text-align: right;\">\n",
       "      <th></th>\n",
       "      <th>id</th>\n",
       "      <th>city</th>\n",
       "      <th>country</th>\n",
       "      <th>bathrooms</th>\n",
       "      <th>bedrooms</th>\n",
       "      <th>listPrice</th>\n",
       "      <th>livingAreaUnit</th>\n",
       "      <th>lotSizeUnit</th>\n",
       "      <th>propertySubType</th>\n",
       "      <th>listingCategory</th>\n",
       "      <th>createdAt</th>\n",
       "      <th>photoscount</th>\n",
       "      <th>grade</th>\n",
       "    </tr>\n",
       "  </thead>\n",
       "  <tbody>\n",
       "    <tr>\n",
       "      <th>0</th>\n",
       "      <td>2698139</td>\n",
       "      <td>St Peters</td>\n",
       "      <td>US</td>\n",
       "      <td>6</td>\n",
       "      <td>5</td>\n",
       "      <td>425000.0</td>\n",
       "      <td>squareFoot</td>\n",
       "      <td>squareFoot</td>\n",
       "      <td>Single Family Detached</td>\n",
       "      <td>Purchase</td>\n",
       "      <td>2019-02-21 14:53:27.462+00</td>\n",
       "      <td>29</td>\n",
       "      <td>awesome</td>\n",
       "    </tr>\n",
       "    <tr>\n",
       "      <th>1</th>\n",
       "      <td>2698093</td>\n",
       "      <td>St Louis</td>\n",
       "      <td>US</td>\n",
       "      <td>2</td>\n",
       "      <td>3</td>\n",
       "      <td>175000.0</td>\n",
       "      <td>squareFoot</td>\n",
       "      <td>squareFoot</td>\n",
       "      <td>Single Family Detached</td>\n",
       "      <td>Purchase</td>\n",
       "      <td>2019-02-21 14:53:07.92+00</td>\n",
       "      <td>29</td>\n",
       "      <td>awesome</td>\n",
       "    </tr>\n",
       "    <tr>\n",
       "      <th>2</th>\n",
       "      <td>2698007</td>\n",
       "      <td>Ballwin</td>\n",
       "      <td>US</td>\n",
       "      <td>3</td>\n",
       "      <td>3</td>\n",
       "      <td>295000.0</td>\n",
       "      <td>squareFoot</td>\n",
       "      <td>squareFoot</td>\n",
       "      <td>Condominium</td>\n",
       "      <td>Purchase</td>\n",
       "      <td>2019-02-21 14:52:30.126+00</td>\n",
       "      <td>29</td>\n",
       "      <td>awesome</td>\n",
       "    </tr>\n",
       "    <tr>\n",
       "      <th>3</th>\n",
       "      <td>2697963</td>\n",
       "      <td>Manchester</td>\n",
       "      <td>US</td>\n",
       "      <td>2</td>\n",
       "      <td>3</td>\n",
       "      <td>215000.0</td>\n",
       "      <td>squareFoot</td>\n",
       "      <td>squareFoot</td>\n",
       "      <td>Single Family Detached</td>\n",
       "      <td>Purchase</td>\n",
       "      <td>2019-02-21 14:52:11.85+00</td>\n",
       "      <td>29</td>\n",
       "      <td>awesome</td>\n",
       "    </tr>\n",
       "    <tr>\n",
       "      <th>4</th>\n",
       "      <td>2697938</td>\n",
       "      <td>O'fallon</td>\n",
       "      <td>US</td>\n",
       "      <td>4</td>\n",
       "      <td>4</td>\n",
       "      <td>375000.0</td>\n",
       "      <td>squareFoot</td>\n",
       "      <td>squareFoot</td>\n",
       "      <td>Single Family Detached</td>\n",
       "      <td>Purchase</td>\n",
       "      <td>2019-02-21 14:51:55.495+00</td>\n",
       "      <td>29</td>\n",
       "      <td>awesome</td>\n",
       "    </tr>\n",
       "  </tbody>\n",
       "</table>\n",
       "</div>"
      ],
      "text/plain": [
       "        id        city country  bathrooms  bedrooms  listPrice livingAreaUnit  \\\n",
       "0  2698139   St Peters      US          6         5   425000.0     squareFoot   \n",
       "1  2698093    St Louis      US          2         3   175000.0     squareFoot   \n",
       "2  2698007     Ballwin      US          3         3   295000.0     squareFoot   \n",
       "3  2697963  Manchester      US          2         3   215000.0     squareFoot   \n",
       "4  2697938    O'fallon      US          4         4   375000.0     squareFoot   \n",
       "\n",
       "  lotSizeUnit         propertySubType listingCategory  \\\n",
       "0  squareFoot  Single Family Detached        Purchase   \n",
       "1  squareFoot  Single Family Detached        Purchase   \n",
       "2  squareFoot             Condominium        Purchase   \n",
       "3  squareFoot  Single Family Detached        Purchase   \n",
       "4  squareFoot  Single Family Detached        Purchase   \n",
       "\n",
       "                    createdAt  photoscount    grade  \n",
       "0  2019-02-21 14:53:27.462+00           29  awesome  \n",
       "1   2019-02-21 14:53:07.92+00           29  awesome  \n",
       "2  2019-02-21 14:52:30.126+00           29  awesome  \n",
       "3   2019-02-21 14:52:11.85+00           29  awesome  \n",
       "4  2019-02-21 14:51:55.495+00           29  awesome  "
      ]
     },
     "execution_count": 88,
     "metadata": {},
     "output_type": "execute_result"
    }
   ],
   "source": [
    "fg=pd.read_csv('C:/Users/Heh/Desktop/CSV-1.csv')\n",
    "fg=fg.drop(['unitNumber','latitude','longitude','livingArea','yearBuilt','lotSize','numParkingSpaces','stateOrProvince','fullStreetAddress','postalCode','listingDescription','listingTitle','geocodioAccuracyScore'],axis=1)\n",
    "fg.head()"
   ]
  },
  {
   "cell_type": "code",
   "execution_count": 89,
   "metadata": {},
   "outputs": [
    {
     "data": {
      "text/plain": [
       "id                 0\n",
       "city               0\n",
       "country            0\n",
       "bathrooms          0\n",
       "bedrooms           0\n",
       "listPrice          0\n",
       "livingAreaUnit     0\n",
       "lotSizeUnit        0\n",
       "propertySubType    0\n",
       "listingCategory    0\n",
       "createdAt          0\n",
       "photoscount        0\n",
       "grade              0\n",
       "dtype: int64"
      ]
     },
     "execution_count": 89,
     "metadata": {},
     "output_type": "execute_result"
    }
   ],
   "source": [
    "fg.isnull().sum()"
   ]
  },
  {
   "cell_type": "code",
   "execution_count": 117,
   "metadata": {},
   "outputs": [
    {
     "data": {
      "text/plain": [
       "good       301\n",
       "awesome    300\n",
       "bad        299\n",
       "Name: grade, dtype: int64"
      ]
     },
     "execution_count": 117,
     "metadata": {},
     "output_type": "execute_result"
    }
   ],
   "source": [
    "fg['grade'].value_counts()"
   ]
  },
  {
   "cell_type": "code",
   "execution_count": null,
   "metadata": {},
   "outputs": [],
   "source": [
    "#predicting grade\n",
    "fg_new=fg.drop('grade',axis=1)\n",
    "fg_new=pd.get_dummies(fg_new)\n",
    "fg_new.head(1)"
   ]
  },
  {
   "cell_type": "code",
   "execution_count": 207,
   "metadata": {},
   "outputs": [
    {
     "data": {
      "image/png": "[encoded data removed]",
      "text/plain": [
       "<Figure size 432x288 with 1 Axes>"
      ]
     },
     "metadata": {
      "needs_background": "light"
     },
     "output_type": "display_data"
    }
   ],
   "source": [
    "from scipy.spatial.distance import cdist\n",
    "X=np.array(fg_new)\n",
    "distortions=[]\n",
    "K=range(1,10)\n",
    "for k in K:\n",
    "    kmeanModel=KMeans(n_clusters=k)\n",
    "    kmeanModel.fit(X)\n",
    "    distortions.append(sum(np.min(cdist(X,kmeanModel.cluster_centers_,'euclidean'),axis=1))/X.shape[0])\n",
    "    \n",
    "plt.plot(K,distortions,'bx-')\n",
    "plt.title('Elbow Curve')\n",
    "plt.show()\n",
    "\n",
    "\n",
    "\n",
    "#The curve would give us the optimal number of clusters.It is called the elbow curve."
   ]
  },
  {
   "cell_type": "code",
   "execution_count": 206,
   "metadata": {},
   "outputs": [
    {
     "name": "stdout",
     "output_type": "stream",
     "text": [
      "labels :  [0 0 0 0 0 0 0 0 0 0 0 0 0 0 0 0 0 0 0 0 0 0 0 0 0 0 0 0 0 0 0 0 0 0 0 0 0\n",
      " 0 0 0 0 0 0 0 0 0 0 0 0 0 0 0 0 0 0 0 0 0 0 0 0 0 0 0 0 0 0 0 0 0 0 0 0 0\n",
      " 0 0 0 0 0 0 0 0 0 0 0 0 0 0 0 0 0 0 0 0 0 0 0 0 0 0 0 0 0 0 0 0 0 0 0 0 0\n",
      " 0 0 0 0 0 0 0 0 0 0 0 0 0 0 0 0 0 0 0 0 0 0 0 0 0 0 0 0 0 0 0 0 0 0 0 0 0\n",
      " 0 0 0 0 0 0 0 0 0 0 0 0 0 0 0 0 0 0 0 0 0 0 0 0 0 0 0 0 0 0 0 0 0 0 0 0 0\n",
      " 0 0 0 0 0 0 0 0 0 0 0 0 0 0 0 0 0 0 0 0 0 0 0 0 0 0 0 0 0 0 0 0 0 0 0 0 0\n",
      " 0 0 0 0 0 0 0 0 0 0 0 0 0 0 0 0 0 0 0 0 0 0 0 0 0 0 0 0 0 0 0 0 0 0 0 0 0\n",
      " 0 0 0 0 0 0 0 0 0 0 0 0 0 0 0 0 0 0 0 0 0 0 0 0 0 0 0 0 0 0 0 0 0 0 0 0 0\n",
      " 0 0 0 0 0 0 0 0 0 0 0 0 0 0 0 0 0 0 0 0 0 0 0 0 0 0 0 0 0 0 0 0 0 0 0 0 0\n",
      " 0 0 0 0 0 0 0 0 0 0 0 0 0 0 0 0 0 0 0 0 0 0 0 0 0 0 0 0 0 0 0 0 0 0 0 0 0\n",
      " 0 0 0 0 0 0 0 0 0 0 0 0 0 0 0 0 0 0 0 0 0 0 0 0 0 0 0 0 0 0 0 0 0 0 0 0 0\n",
      " 0 0 0 0 0 0 0 0 0 0 0 0 0 0 0 0 0 0 2 2 2 2 2 2 2 2 2 2 2 2 2 2 2 2 2 2 2\n",
      " 2 2 2 2 2 2 2 2 2 2 2 2 2 2 2 2 2 2 2 2 2 2 2 2 2 2 2 2 2 2 2 2 2 2 2 2 2\n",
      " 2 2 2 2 2 2 2 2 2 2 2 2 2 2 2 2 2 2 2 2 2 2 2 2 2 2 2 2 2 2 2 2 2 2 2 2 2\n",
      " 2 2 2 2 2 2 2 2 2 2 2 2 2 2 2 2 2 2 2 2 2 2 2 2 2 2 2 2 2 2 2 2 2 3 2 2 2\n",
      " 2 2 2 2 2 2 2 2 2 2 2 2 2 2 2 2 2 2 2 2 2 2 2 2 2 2 2 2 2 2 2 2 2 2 2 2 2\n",
      " 2 2 2 2 2 2 2 2 2 2 2 2 2 2 2 2 2 2 2 2 2 2 2 2 2 2 2 2 2 2 2 2 2 2 2 2 2\n",
      " 2 2 2 2 2 2 2 2 2 2 2 2 2 2 2 2 2 2 2 2 2 2 2 2 2 2 2 2 2 2 2 2 2 2 2 2 2\n",
      " 2 2 2 2 2 2 2 2 2 2 1 2 2 2 2 2 2 2 2 2 2 2 2 2 2 2 2 2 2 2 2 2 2 2 2 2 2\n",
      " 2 2 2 2 2 2 2 2 2 2 2 2 2 2 2 2 2 2 2 2 2 2 2 2 2 2 2 2 2 2 2 2 2 2 2 2 2\n",
      " 2 2 2 2 2 2 2 2 2 2 2 2 2 2 2 2 2 2 2 2 2 2 2 2 2 2 2 2 2 2 2 2 2 2 2 2 2\n",
      " 2 2 2 2 2 2 2 2 2 2 2 2 2 2 2 2 2 2 2 2 2 2 2 2 2 2 2 2 2 2 2 2 2 2 2 2 2\n",
      " 2 2 2 2 2 2 2 2 2 2 2 2 2 2 2 2 2 2 2 2 2 2 2 2 2 2 2 2 2 2 2 2 2 2 2 2 2\n",
      " 2 2 2 2 2 2 2 2 2 2 2 2 2 2 2 2 2 2 2 2 2 2 2 2 2 2 2 2 2 2 2 2 2 2 2 2 2\n",
      " 2 2 2 2 2 2 2 2 2 2 2 2]\n",
      "-----------------\n",
      "centroids: [[ 2.13403868e+06  2.39294118e+00  3.12941176e+00 ...  2.35294118e-03\n",
      "   2.35294118e-03  2.35294118e-03]\n",
      " [ 6.92082000e+05  1.00000000e+00  3.00000000e+00 ...  0.00000000e+00\n",
      "   0.00000000e+00  0.00000000e+00]\n",
      " [ 7.03896281e+05  2.06131078e+00  2.78435518e+00 ... -1.95156391e-18\n",
      "  -1.95156391e-18 -1.95156391e-18]\n",
      " [ 1.07445200e+06  5.00000000e+00  4.00000000e+00 ...  0.00000000e+00\n",
      "   0.00000000e+00  0.00000000e+00]]\n"
     ]
    }
   ],
   "source": [
    "df=fg_new\n",
    "kmeans=KMeans(n_clusters=4) # means data will go in 4 clusters\n",
    "kmeans.fit(df)\n",
    "labels=kmeans.predict(df)\n",
    "centroids=kmeans.cluster_centers_\n",
    "print('labels : ',labels )\n",
    "print('-----------------')\n",
    "\n",
    "\n",
    "#This code tells us that there are more enteries in the 0th cluster."
   ]
  },
  {
   "cell_type": "code",
   "execution_count": 91,
   "metadata": {},
   "outputs": [
    {
     "data": {
      "text/html": [
       "<div>\n",
       "<style scoped>\n",
       "    .dataframe tbody tr th:only-of-type {\n",
       "        vertical-align: middle;\n",
       "    }\n",
       "\n",
       "    .dataframe tbody tr th {\n",
       "        vertical-align: top;\n",
       "    }\n",
       "\n",
       "    .dataframe thead th {\n",
       "        text-align: right;\n",
       "    }\n",
       "</style>\n",
       "<table border=\"1\" class=\"dataframe\">\n",
       "  <thead>\n",
       "    <tr style=\"text-align: right;\">\n",
       "      <th></th>\n",
       "      <th>id</th>\n",
       "      <th>bathrooms</th>\n",
       "      <th>bedrooms</th>\n",
       "      <th>listPrice</th>\n",
       "      <th>photoscount</th>\n",
       "      <th>city_ANNAPOLIS</th>\n",
       "      <th>city_Abbeville</th>\n",
       "      <th>city_Acworth</th>\n",
       "      <th>city_Aiken</th>\n",
       "      <th>city_Akron</th>\n",
       "      <th>...</th>\n",
       "      <th>createdAt_2019-02-21 14:50:19.474+00</th>\n",
       "      <th>createdAt_2019-02-21 14:50:54.169+00</th>\n",
       "      <th>createdAt_2019-02-21 14:51:05.514+00</th>\n",
       "      <th>createdAt_2019-02-21 14:51:54.803+00</th>\n",
       "      <th>createdAt_2019-02-21 14:51:55.495+00</th>\n",
       "      <th>createdAt_2019-02-21 14:52:11.85+00</th>\n",
       "      <th>createdAt_2019-02-21 14:52:30.126+00</th>\n",
       "      <th>createdAt_2019-02-21 14:53:07.92+00</th>\n",
       "      <th>createdAt_2019-02-21 14:53:27.462+00</th>\n",
       "      <th>grade</th>\n",
       "    </tr>\n",
       "  </thead>\n",
       "  <tbody>\n",
       "    <tr>\n",
       "      <th>0</th>\n",
       "      <td>2698139</td>\n",
       "      <td>6</td>\n",
       "      <td>5</td>\n",
       "      <td>425000.0</td>\n",
       "      <td>29</td>\n",
       "      <td>0</td>\n",
       "      <td>0</td>\n",
       "      <td>0</td>\n",
       "      <td>0</td>\n",
       "      <td>0</td>\n",
       "      <td>...</td>\n",
       "      <td>0</td>\n",
       "      <td>0</td>\n",
       "      <td>0</td>\n",
       "      <td>0</td>\n",
       "      <td>0</td>\n",
       "      <td>0</td>\n",
       "      <td>0</td>\n",
       "      <td>0</td>\n",
       "      <td>1</td>\n",
       "      <td>awesome</td>\n",
       "    </tr>\n",
       "  </tbody>\n",
       "</table>\n",
       "<p>1 rows × 1547 columns</p>\n",
       "</div>"
      ],
      "text/plain": [
       "        id  bathrooms  bedrooms  listPrice  photoscount  city_ANNAPOLIS  \\\n",
       "0  2698139          6         5   425000.0           29               0   \n",
       "\n",
       "   city_Abbeville  city_Acworth  city_Aiken  city_Akron  ...  \\\n",
       "0               0             0           0           0  ...   \n",
       "\n",
       "   createdAt_2019-02-21 14:50:19.474+00  createdAt_2019-02-21 14:50:54.169+00  \\\n",
       "0                                     0                                     0   \n",
       "\n",
       "   createdAt_2019-02-21 14:51:05.514+00  createdAt_2019-02-21 14:51:54.803+00  \\\n",
       "0                                     0                                     0   \n",
       "\n",
       "   createdAt_2019-02-21 14:51:55.495+00  createdAt_2019-02-21 14:52:11.85+00  \\\n",
       "0                                     0                                    0   \n",
       "\n",
       "   createdAt_2019-02-21 14:52:30.126+00  createdAt_2019-02-21 14:53:07.92+00  \\\n",
       "0                                     0                                    0   \n",
       "\n",
       "   createdAt_2019-02-21 14:53:27.462+00    grade  \n",
       "0                                     1  awesome  \n",
       "\n",
       "[1 rows x 1547 columns]"
      ]
     },
     "execution_count": 91,
     "metadata": {},
     "output_type": "execute_result"
    }
   ],
   "source": [
    "fgg=fg_new\n",
    "fgg['grade']=fg['grade']\n",
    "fgg.head(1)"
   ]
  },
  {
   "cell_type": "code",
   "execution_count": 92,
   "metadata": {},
   "outputs": [],
   "source": [
    "from sklearn.model_selection import train_test_split\n",
    "train,test=train_test_split(fgg,test_size=0.3,random_state=100)"
   ]
  },
  {
   "cell_type": "code",
   "execution_count": 93,
   "metadata": {},
   "outputs": [],
   "source": [
    "train_x=train.drop('grade',axis=1)\n",
    "train_y=train['grade']\n",
    "\n",
    "test_x=test.drop('grade',axis=1)\n",
    "test_y=test['grade']"
   ]
  },
  {
   "cell_type": "code",
   "execution_count": 215,
   "metadata": {},
   "outputs": [
    {
     "name": "stdout",
     "output_type": "stream",
     "text": [
      "                Accuracy\n",
      "Random Forest  95.185185\n",
      "Decision Tree  93.703704\n",
      "Ada Boost      93.703704\n",
      "KNN            71.111111\n",
      "Naive Bayes    48.518519\n"
     ]
    }
   ],
   "source": [
    "# Clustering the data\n",
    "import numpy as np\n",
    "import pandas as pd\n",
    "from sklearn.tree import DecisionTreeClassifier\n",
    "from sklearn.ensemble import RandomForestClassifier\n",
    "from sklearn.neighbors import KNeighborsClassifier\n",
    "from sklearn.ensemble import AdaBoostClassifier\n",
    "from sklearn.metrics import accuracy_score, confusion_matrix\n",
    "from sklearn.naive_bayes import GaussianNB\n",
    "from sklearn.metrics import auc, roc_curve\n",
    "import matplotlib.pyplot as plt\n",
    "l=[]\n",
    "model_1aa=DecisionTreeClassifier(max_depth=2)\n",
    "model_2aa=RandomForestClassifier(n_estimators=100)\n",
    "model_3aa=KNeighborsClassifier(n_neighbors=5)\n",
    "model_4aa=AdaBoostClassifier(n_estimators=100)\n",
    "model_5aa=GaussianNB()\n",
    "a=(model_1aa,model_2aa,model_3aa,model_4aa,model_5aa)\n",
    "for i in a:\n",
    "    i.fit(train_x,train_y)\n",
    "    pred_test=i.predict(test_x)\n",
    "    a=accuracy_score(test_y,pred_test)\n",
    "    l.append(a*100)\n",
    "df=(pd.DataFrame({'Accuracy':l},index=['Decision Tree','Random Forest','KNN','Ada Boost','Naive Bayes']).sort_values('Accuracy',ascending=False))\n",
    "print(df)\n",
    "\n",
    "\n",
    "#From the above code we can say that,RandomForest gives us the highest accuracy,meaning we can predict the grade of a  customer in the future,meaning we can suggest the customers the properties marked as awesome probably everytime as the accuracy of the predicted model is close to 95%.\n"
   ]
  },
  {
   "cell_type": "code",
   "execution_count": 105,
   "metadata": {},
   "outputs": [
    {
     "name": "stdout",
     "output_type": "stream",
     "text": [
      "KMeans(algorithm='auto', copy_x=True, init='k-means++', max_iter=300,\n",
      "    n_clusters=4, n_init=10, n_jobs=None, precompute_distances='auto',\n",
      "    random_state=100, tol=0.0001, verbose=0)\n"
     ]
    }
   ],
   "source": [
    "kmeans = KMeans(n_clusters=4, random_state=100).fit(train_x,train_y)\n",
    "print(kmeans)"
   ]
  },
  {
   "cell_type": "code",
   "execution_count": 106,
   "metadata": {},
   "outputs": [
    {
     "data": {
      "text/plain": [
       "array([0, 2, 2, 3, 0, 3, 3, 0, 0, 0, 0, 3, 0, 0, 2, 0, 0, 2, 2, 2, 2, 0,\n",
       "       2, 3, 3, 3, 0, 3, 2, 3, 2, 2, 0, 3, 0, 3, 3, 3, 3, 3, 3, 3, 0, 3,\n",
       "       3, 3, 3, 3, 0, 2, 2, 3, 3, 3, 0, 0, 3, 2, 2, 3, 3, 2, 0, 0, 0, 0,\n",
       "       0, 2, 2, 3, 0, 3, 0, 3, 2, 3, 2, 2, 0, 0, 0, 2, 0, 2, 3, 2, 2, 0,\n",
       "       0, 3, 0, 0, 2, 3, 2, 0, 2, 0, 3, 3, 2, 0, 0, 0, 2, 0, 2, 2, 3, 3,\n",
       "       0, 2, 3, 0, 0, 0, 2, 0, 2, 3, 3, 3, 0, 0, 2, 0, 3, 3, 0, 2, 0, 3,\n",
       "       2, 3, 0, 0, 2, 2, 2, 3, 3, 3, 0, 0, 0, 0, 3, 3, 2, 0, 0, 3, 0, 3,\n",
       "       0, 2, 3, 3, 3, 3, 0, 3, 0, 0, 0, 2, 0, 3, 0, 2, 2, 2, 3, 0, 0, 3,\n",
       "       0, 3, 3, 0, 3, 2, 3, 2, 3, 2, 3, 2, 0, 2, 0, 3, 2, 0, 3, 3, 2, 0,\n",
       "       3, 2, 0, 3, 2, 3, 0, 3, 3, 0, 3, 3, 2, 2, 3, 2, 3, 0, 3, 3, 3, 3,\n",
       "       3, 3, 2, 0, 2, 2, 2, 0, 2, 0, 3, 0, 0, 0, 0, 2, 3, 0, 0, 0, 3, 2,\n",
       "       0, 3, 3, 0, 0, 0, 0, 2, 3, 0, 0, 3, 2, 2, 3, 2, 3, 0, 0, 3, 2, 2,\n",
       "       3, 3, 3, 0, 3, 3])"
      ]
     },
     "execution_count": 106,
     "metadata": {},
     "output_type": "execute_result"
    }
   ],
   "source": [
    "pred_test=kmeans.predict(test_x)\n",
    "pred_test"
   ]
  },
  {
   "cell_type": "code",
   "execution_count": 107,
   "metadata": {},
   "outputs": [
    {
     "data": {
      "text/plain": [
       "0.0"
      ]
     },
     "execution_count": 107,
     "metadata": {},
     "output_type": "execute_result"
    }
   ],
   "source": [
    "accuracy_score(test_y,pred_test)"
   ]
  },
  {
   "cell_type": "code",
   "execution_count": 98,
   "metadata": {},
   "outputs": [
    {
     "data": {
      "text/html": [
       "<div>\n",
       "<style scoped>\n",
       "    .dataframe tbody tr th:only-of-type {\n",
       "        vertical-align: middle;\n",
       "    }\n",
       "\n",
       "    .dataframe tbody tr th {\n",
       "        vertical-align: top;\n",
       "    }\n",
       "\n",
       "    .dataframe thead th {\n",
       "        text-align: right;\n",
       "    }\n",
       "</style>\n",
       "<table border=\"1\" class=\"dataframe\">\n",
       "  <thead>\n",
       "    <tr style=\"text-align: right;\">\n",
       "      <th></th>\n",
       "      <th>id</th>\n",
       "      <th>bathrooms</th>\n",
       "      <th>bedrooms</th>\n",
       "      <th>listPrice</th>\n",
       "      <th>photoscount</th>\n",
       "      <th>city_ANNAPOLIS</th>\n",
       "      <th>city_Abbeville</th>\n",
       "      <th>city_Acworth</th>\n",
       "      <th>city_Aiken</th>\n",
       "      <th>city_Akron</th>\n",
       "      <th>...</th>\n",
       "      <th>createdAt_2019-02-21 14:50:19.474+00</th>\n",
       "      <th>createdAt_2019-02-21 14:50:54.169+00</th>\n",
       "      <th>createdAt_2019-02-21 14:51:05.514+00</th>\n",
       "      <th>createdAt_2019-02-21 14:51:54.803+00</th>\n",
       "      <th>createdAt_2019-02-21 14:51:55.495+00</th>\n",
       "      <th>createdAt_2019-02-21 14:52:11.85+00</th>\n",
       "      <th>createdAt_2019-02-21 14:52:30.126+00</th>\n",
       "      <th>createdAt_2019-02-21 14:53:07.92+00</th>\n",
       "      <th>createdAt_2019-02-21 14:53:27.462+00</th>\n",
       "      <th>grade</th>\n",
       "    </tr>\n",
       "  </thead>\n",
       "  <tbody>\n",
       "    <tr>\n",
       "      <th>0</th>\n",
       "      <td>2698139</td>\n",
       "      <td>6</td>\n",
       "      <td>5</td>\n",
       "      <td>425000.0</td>\n",
       "      <td>29</td>\n",
       "      <td>0</td>\n",
       "      <td>0</td>\n",
       "      <td>0</td>\n",
       "      <td>0</td>\n",
       "      <td>0</td>\n",
       "      <td>...</td>\n",
       "      <td>0</td>\n",
       "      <td>0</td>\n",
       "      <td>0</td>\n",
       "      <td>0</td>\n",
       "      <td>0</td>\n",
       "      <td>0</td>\n",
       "      <td>0</td>\n",
       "      <td>0</td>\n",
       "      <td>1</td>\n",
       "      <td>awesome</td>\n",
       "    </tr>\n",
       "  </tbody>\n",
       "</table>\n",
       "<p>1 rows × 1547 columns</p>\n",
       "</div>"
      ],
      "text/plain": [
       "        id  bathrooms  bedrooms  listPrice  photoscount  city_ANNAPOLIS  \\\n",
       "0  2698139          6         5   425000.0           29               0   \n",
       "\n",
       "   city_Abbeville  city_Acworth  city_Aiken  city_Akron  ...  \\\n",
       "0               0             0           0           0  ...   \n",
       "\n",
       "   createdAt_2019-02-21 14:50:19.474+00  createdAt_2019-02-21 14:50:54.169+00  \\\n",
       "0                                     0                                     0   \n",
       "\n",
       "   createdAt_2019-02-21 14:51:05.514+00  createdAt_2019-02-21 14:51:54.803+00  \\\n",
       "0                                     0                                     0   \n",
       "\n",
       "   createdAt_2019-02-21 14:51:55.495+00  createdAt_2019-02-21 14:52:11.85+00  \\\n",
       "0                                     0                                    0   \n",
       "\n",
       "   createdAt_2019-02-21 14:52:30.126+00  createdAt_2019-02-21 14:53:07.92+00  \\\n",
       "0                                     0                                    0   \n",
       "\n",
       "   createdAt_2019-02-21 14:53:27.462+00    grade  \n",
       "0                                     1  awesome  \n",
       "\n",
       "[1 rows x 1547 columns]"
      ]
     },
     "execution_count": 98,
     "metadata": {},
     "output_type": "execute_result"
    }
   ],
   "source": [
    "fg_new.head(1)"
   ]
  },
  {
   "cell_type": "code",
   "execution_count": 101,
   "metadata": {},
   "outputs": [],
   "source": []
  },
  {
   "cell_type": "code",
   "execution_count": 103,
   "metadata": {},
   "outputs": [
    {
     "data": {
      "text/plain": [
       "range(1, 10)"
      ]
     },
     "execution_count": 103,
     "metadata": {},
     "output_type": "execute_result"
    }
   ],
   "source": [
    "K"
   ]
  },
  {
   "cell_type": "code",
   "execution_count": 113,
   "metadata": {},
   "outputs": [
    {
     "data": {
      "image/png": "[encoded data removed]",
      "text/plain": [
       "<Figure size 432x288 with 1 Axes>"
      ]
     },
     "metadata": {
      "needs_background": "light"
     },
     "output_type": "display_data"
    }
   ],
   "source": []
  },
  {
   "cell_type": "code",
   "execution_count": 116,
   "metadata": {},
   "outputs": [
    {
     "data": {
      "text/html": [
       "<div>\n",
       "<style scoped>\n",
       "    .dataframe tbody tr th:only-of-type {\n",
       "        vertical-align: middle;\n",
       "    }\n",
       "\n",
       "    .dataframe tbody tr th {\n",
       "        vertical-align: top;\n",
       "    }\n",
       "\n",
       "    .dataframe thead th {\n",
       "        text-align: right;\n",
       "    }\n",
       "</style>\n",
       "<table border=\"1\" class=\"dataframe\">\n",
       "  <thead>\n",
       "    <tr style=\"text-align: right;\">\n",
       "      <th></th>\n",
       "      <th>id</th>\n",
       "      <th>city</th>\n",
       "      <th>country</th>\n",
       "      <th>bathrooms</th>\n",
       "      <th>bedrooms</th>\n",
       "      <th>listPrice</th>\n",
       "      <th>livingAreaUnit</th>\n",
       "      <th>lotSizeUnit</th>\n",
       "      <th>propertySubType</th>\n",
       "      <th>listingCategory</th>\n",
       "      <th>createdAt</th>\n",
       "      <th>photoscount</th>\n",
       "      <th>grade</th>\n",
       "    </tr>\n",
       "  </thead>\n",
       "  <tbody>\n",
       "    <tr>\n",
       "      <th>0</th>\n",
       "      <td>2698139</td>\n",
       "      <td>St Peters</td>\n",
       "      <td>US</td>\n",
       "      <td>6</td>\n",
       "      <td>5</td>\n",
       "      <td>425000.0</td>\n",
       "      <td>squareFoot</td>\n",
       "      <td>squareFoot</td>\n",
       "      <td>Single Family Detached</td>\n",
       "      <td>Purchase</td>\n",
       "      <td>2019-02-21 14:53:27.462+00</td>\n",
       "      <td>29</td>\n",
       "      <td>awesome</td>\n",
       "    </tr>\n",
       "  </tbody>\n",
       "</table>\n",
       "</div>"
      ],
      "text/plain": [
       "        id       city country  bathrooms  bedrooms  listPrice livingAreaUnit  \\\n",
       "0  2698139  St Peters      US          6         5   425000.0     squareFoot   \n",
       "\n",
       "  lotSizeUnit         propertySubType listingCategory  \\\n",
       "0  squareFoot  Single Family Detached        Purchase   \n",
       "\n",
       "                    createdAt  photoscount    grade  \n",
       "0  2019-02-21 14:53:27.462+00           29  awesome  "
      ]
     },
     "execution_count": 116,
     "metadata": {},
     "output_type": "execute_result"
    }
   ],
   "source": [
    "fg.head(1)"
   ]
  },
  {
   "cell_type": "markdown",
   "metadata": {},
   "source": [
    "# 1"
   ]
  },
  {
   "cell_type": "code",
   "execution_count": 139,
   "metadata": {},
   "outputs": [],
   "source": [
    "import pandas as pd"
   ]
  },
  {
   "cell_type": "code",
   "execution_count": null,
   "metadata": {},
   "outputs": [],
   "source": [
    "a=fg[fg.listingCategory=='Purchase']['city'].value_counts().head()"
   ]
  },
  {
   "cell_type": "code",
   "execution_count": null,
   "metadata": {},
   "outputs": [],
   "source": [
    "a=pd.DataFrame(a)"
   ]
  },
  {
   "cell_type": "code",
   "execution_count": null,
   "metadata": {},
   "outputs": [],
   "source": [
    "a.reset_index(level=0, inplace=True)"
   ]
  },
  {
   "cell_type": "code",
   "execution_count": 168,
   "metadata": {},
   "outputs": [
    {
     "data": {
      "text/html": [
       "<div>\n",
       "<style scoped>\n",
       "    .dataframe tbody tr th:only-of-type {\n",
       "        vertical-align: middle;\n",
       "    }\n",
       "\n",
       "    .dataframe tbody tr th {\n",
       "        vertical-align: top;\n",
       "    }\n",
       "\n",
       "    .dataframe thead th {\n",
       "        text-align: right;\n",
       "    }\n",
       "</style>\n",
       "<table border=\"1\" class=\"dataframe\">\n",
       "  <thead>\n",
       "    <tr style=\"text-align: right;\">\n",
       "      <th></th>\n",
       "      <th>City</th>\n",
       "      <th>Count</th>\n",
       "    </tr>\n",
       "  </thead>\n",
       "  <tbody>\n",
       "    <tr>\n",
       "      <th>0</th>\n",
       "      <td>Las Vegas</td>\n",
       "      <td>19</td>\n",
       "    </tr>\n",
       "    <tr>\n",
       "      <th>1</th>\n",
       "      <td>Miami</td>\n",
       "      <td>18</td>\n",
       "    </tr>\n",
       "    <tr>\n",
       "      <th>2</th>\n",
       "      <td>Other City - In The State Of Florida</td>\n",
       "      <td>10</td>\n",
       "    </tr>\n",
       "    <tr>\n",
       "      <th>3</th>\n",
       "      <td>St Bernard</td>\n",
       "      <td>8</td>\n",
       "    </tr>\n",
       "    <tr>\n",
       "      <th>4</th>\n",
       "      <td>Pahrump</td>\n",
       "      <td>6</td>\n",
       "    </tr>\n",
       "  </tbody>\n",
       "</table>\n",
       "</div>"
      ],
      "text/plain": [
       "                                   City  Count\n",
       "0                             Las Vegas     19\n",
       "1                                 Miami     18\n",
       "2  Other City - In The State Of Florida     10\n",
       "3                            St Bernard      8\n",
       "4                               Pahrump      6"
      ]
     },
     "execution_count": 168,
     "metadata": {},
     "output_type": "execute_result"
    }
   ],
   "source": [
    "a['City']=a['index']\n",
    "a['Count']=a['city']\n",
    "a=a.drop(['index','city'],axis=1)\n",
    "a"
   ]
  },
  {
   "cell_type": "code",
   "execution_count": 192,
   "metadata": {},
   "outputs": [
    {
     "data": {
      "image/png": "[encoded data removed]",
      "text/plain": [
       "<Figure size 432x288 with 1 Axes>"
      ]
     },
     "metadata": {
      "needs_background": "light"
     },
     "output_type": "display_data"
    }
   ],
   "source": [
    "sns.barplot(x='City',y='Count',data=a,)\n",
    "plt.xticks(rotation=45)\n",
    "plt.show()\n",
    "\n",
    "#top 5 cities having listingCategory as Purchase which means cities with maximum purchase. Which means the top 5 cities which have maximum purchase rate."
   ]
  },
  {
   "cell_type": "markdown",
   "metadata": {},
   "source": [
    "# 2"
   ]
  },
  {
   "cell_type": "code",
   "execution_count": 179,
   "metadata": {},
   "outputs": [],
   "source": [
    "b=fg[fg.listingCategory=='Rent']['city'].value_counts().head()"
   ]
  },
  {
   "cell_type": "code",
   "execution_count": 180,
   "metadata": {},
   "outputs": [],
   "source": [
    "b=pd.DataFrame(b)"
   ]
  },
  {
   "cell_type": "code",
   "execution_count": 181,
   "metadata": {},
   "outputs": [
    {
     "data": {
      "text/html": [
       "<div>\n",
       "<style scoped>\n",
       "    .dataframe tbody tr th:only-of-type {\n",
       "        vertical-align: middle;\n",
       "    }\n",
       "\n",
       "    .dataframe tbody tr th {\n",
       "        vertical-align: top;\n",
       "    }\n",
       "\n",
       "    .dataframe thead th {\n",
       "        text-align: right;\n",
       "    }\n",
       "</style>\n",
       "<table border=\"1\" class=\"dataframe\">\n",
       "  <thead>\n",
       "    <tr style=\"text-align: right;\">\n",
       "      <th></th>\n",
       "      <th>City</th>\n",
       "      <th>Count</th>\n",
       "    </tr>\n",
       "  </thead>\n",
       "  <tbody>\n",
       "    <tr>\n",
       "      <th>0</th>\n",
       "      <td>Las Vegas</td>\n",
       "      <td>12</td>\n",
       "    </tr>\n",
       "    <tr>\n",
       "      <th>1</th>\n",
       "      <td>Miami</td>\n",
       "      <td>5</td>\n",
       "    </tr>\n",
       "    <tr>\n",
       "      <th>2</th>\n",
       "      <td>New York</td>\n",
       "      <td>5</td>\n",
       "    </tr>\n",
       "    <tr>\n",
       "      <th>3</th>\n",
       "      <td>Lucas</td>\n",
       "      <td>4</td>\n",
       "    </tr>\n",
       "    <tr>\n",
       "      <th>4</th>\n",
       "      <td>Brooklyn</td>\n",
       "      <td>4</td>\n",
       "    </tr>\n",
       "  </tbody>\n",
       "</table>\n",
       "</div>"
      ],
      "text/plain": [
       "        City  Count\n",
       "0  Las Vegas     12\n",
       "1      Miami      5\n",
       "2   New York      5\n",
       "3      Lucas      4\n",
       "4   Brooklyn      4"
      ]
     },
     "execution_count": 181,
     "metadata": {},
     "output_type": "execute_result"
    }
   ],
   "source": [
    "b.reset_index(level=0, inplace=True)\n",
    "b['City']=b['index']\n",
    "b['Count']=b['city']\n",
    "b=b.drop(['index','city'],axis=1)\n",
    "b"
   ]
  },
  {
   "cell_type": "code",
   "execution_count": 195,
   "metadata": {},
   "outputs": [
    {
     "data": {
      "image/png": "[encoded data removed]",
      "text/plain": [
       "<Figure size 432x288 with 1 Axes>"
      ]
     },
     "metadata": {
      "needs_background": "light"
     },
     "output_type": "display_data"
    }
   ],
   "source": [
    "sns.barplot(x='City',y='Count',data=b)\n",
    "plt.show()\n",
    "\n",
    "#top 5 country having listingCategory as Rented. "
   ]
  },
  {
   "cell_type": "code",
   "execution_count": 130,
   "metadata": {},
   "outputs": [
    {
     "data": {
      "text/html": [
       "<div>\n",
       "<style scoped>\n",
       "    .dataframe tbody tr th:only-of-type {\n",
       "        vertical-align: middle;\n",
       "    }\n",
       "\n",
       "    .dataframe tbody tr th {\n",
       "        vertical-align: top;\n",
       "    }\n",
       "\n",
       "    .dataframe thead th {\n",
       "        text-align: right;\n",
       "    }\n",
       "</style>\n",
       "<table border=\"1\" class=\"dataframe\">\n",
       "  <thead>\n",
       "    <tr style=\"text-align: right;\">\n",
       "      <th></th>\n",
       "      <th>id</th>\n",
       "      <th>city</th>\n",
       "    </tr>\n",
       "  </thead>\n",
       "  <tbody>\n",
       "    <tr>\n",
       "      <th>0</th>\n",
       "      <td>2698139</td>\n",
       "      <td>St Peters</td>\n",
       "    </tr>\n",
       "    <tr>\n",
       "      <th>1</th>\n",
       "      <td>2698093</td>\n",
       "      <td>St Louis</td>\n",
       "    </tr>\n",
       "    <tr>\n",
       "      <th>2</th>\n",
       "      <td>2698007</td>\n",
       "      <td>Ballwin</td>\n",
       "    </tr>\n",
       "    <tr>\n",
       "      <th>3</th>\n",
       "      <td>2697963</td>\n",
       "      <td>Manchester</td>\n",
       "    </tr>\n",
       "    <tr>\n",
       "      <th>4</th>\n",
       "      <td>2697938</td>\n",
       "      <td>O'fallon</td>\n",
       "    </tr>\n",
       "  </tbody>\n",
       "</table>\n",
       "</div>"
      ],
      "text/plain": [
       "        id        city\n",
       "0  2698139   St Peters\n",
       "1  2698093    St Louis\n",
       "2  2698007     Ballwin\n",
       "3  2697963  Manchester\n",
       "4  2697938    O'fallon"
      ]
     },
     "execution_count": 130,
     "metadata": {},
     "output_type": "execute_result"
    }
   ],
   "source": [
    "c=fg[fg.grade=='awesome'][['id','city']].head(5)\n",
    "c"
   ]
  },
  {
   "cell_type": "code",
   "execution_count": 197,
   "metadata": {},
   "outputs": [
    {
     "data": {
      "image/png": "[encoded data removed]",
      "text/plain": [
       "<Figure size 432x288 with 1 Axes>"
      ]
     },
     "metadata": {
      "needs_background": "light"
     },
     "output_type": "display_data"
    }
   ],
   "source": [
    "sns.barplot(x='city',y='id',data=c)\n",
    "plt.show()\n",
    "\n",
    "#This depicts the cities graded as Awesome by the customers wrt the property."
   ]
  },
  {
   "cell_type": "code",
   "execution_count": 131,
   "metadata": {},
   "outputs": [
    {
     "data": {
      "text/html": [
       "<div>\n",
       "<style scoped>\n",
       "    .dataframe tbody tr th:only-of-type {\n",
       "        vertical-align: middle;\n",
       "    }\n",
       "\n",
       "    .dataframe tbody tr th {\n",
       "        vertical-align: top;\n",
       "    }\n",
       "\n",
       "    .dataframe thead th {\n",
       "        text-align: right;\n",
       "    }\n",
       "</style>\n",
       "<table border=\"1\" class=\"dataframe\">\n",
       "  <thead>\n",
       "    <tr style=\"text-align: right;\">\n",
       "      <th></th>\n",
       "      <th>id</th>\n",
       "      <th>city</th>\n",
       "    </tr>\n",
       "  </thead>\n",
       "  <tbody>\n",
       "    <tr>\n",
       "      <th>106</th>\n",
       "      <td>2518922</td>\n",
       "      <td>Shirley</td>\n",
       "    </tr>\n",
       "    <tr>\n",
       "      <th>139</th>\n",
       "      <td>2385136</td>\n",
       "      <td>Brooklyn</td>\n",
       "    </tr>\n",
       "    <tr>\n",
       "      <th>142</th>\n",
       "      <td>2373303</td>\n",
       "      <td>CHANNAHON</td>\n",
       "    </tr>\n",
       "    <tr>\n",
       "      <th>143</th>\n",
       "      <td>2371048</td>\n",
       "      <td>Bayside</td>\n",
       "    </tr>\n",
       "    <tr>\n",
       "      <th>148</th>\n",
       "      <td>2356716</td>\n",
       "      <td>Statesboro</td>\n",
       "    </tr>\n",
       "  </tbody>\n",
       "</table>\n",
       "</div>"
      ],
      "text/plain": [
       "          id        city\n",
       "106  2518922     Shirley\n",
       "139  2385136    Brooklyn\n",
       "142  2373303   CHANNAHON\n",
       "143  2371048     Bayside\n",
       "148  2356716  Statesboro"
      ]
     },
     "execution_count": 131,
     "metadata": {},
     "output_type": "execute_result"
    }
   ],
   "source": [
    "d=fg[fg.grade=='good'][['id','city']].head(5)\n",
    "d"
   ]
  },
  {
   "cell_type": "code",
   "execution_count": 199,
   "metadata": {},
   "outputs": [
    {
     "data": {
      "image/png": "[encoded data removed]",
      "text/plain": [
       "<Figure size 432x288 with 1 Axes>"
      ]
     },
     "metadata": {
      "needs_background": "light"
     },
     "output_type": "display_data"
    }
   ],
   "source": [
    "sns.barplot(x='city',y='id',data=d)\n",
    "plt.show()\n",
    "\n",
    "\n",
    "#This graph represents the cities which have been graded Good by the customers wrt the property."
   ]
  },
  {
   "cell_type": "code",
   "execution_count": 133,
   "metadata": {},
   "outputs": [
    {
     "data": {
      "text/html": [
       "<div>\n",
       "<style scoped>\n",
       "    .dataframe tbody tr th:only-of-type {\n",
       "        vertical-align: middle;\n",
       "    }\n",
       "\n",
       "    .dataframe tbody tr th {\n",
       "        vertical-align: top;\n",
       "    }\n",
       "\n",
       "    .dataframe thead th {\n",
       "        text-align: right;\n",
       "    }\n",
       "</style>\n",
       "<table border=\"1\" class=\"dataframe\">\n",
       "  <thead>\n",
       "    <tr style=\"text-align: right;\">\n",
       "      <th></th>\n",
       "      <th>id</th>\n",
       "      <th>city</th>\n",
       "    </tr>\n",
       "  </thead>\n",
       "  <tbody>\n",
       "    <tr>\n",
       "      <th>895</th>\n",
       "      <td>7114</td>\n",
       "      <td>Sunny Isles Beach</td>\n",
       "    </tr>\n",
       "    <tr>\n",
       "      <th>896</th>\n",
       "      <td>6599</td>\n",
       "      <td>Miami</td>\n",
       "    </tr>\n",
       "    <tr>\n",
       "      <th>897</th>\n",
       "      <td>5181</td>\n",
       "      <td>North Miami Beach</td>\n",
       "    </tr>\n",
       "    <tr>\n",
       "      <th>898</th>\n",
       "      <td>3983</td>\n",
       "      <td>Sunrise</td>\n",
       "    </tr>\n",
       "    <tr>\n",
       "      <th>899</th>\n",
       "      <td>2637</td>\n",
       "      <td>North Lauderdale</td>\n",
       "    </tr>\n",
       "  </tbody>\n",
       "</table>\n",
       "</div>"
      ],
      "text/plain": [
       "       id               city\n",
       "895  7114  Sunny Isles Beach\n",
       "896  6599              Miami\n",
       "897  5181  North Miami Beach\n",
       "898  3983            Sunrise\n",
       "899  2637   North Lauderdale"
      ]
     },
     "execution_count": 133,
     "metadata": {},
     "output_type": "execute_result"
    }
   ],
   "source": [
    "e=fg[fg.grade=='bad'][['id','city']].tail(5)\n",
    "e"
   ]
  },
  {
   "cell_type": "code",
   "execution_count": 201,
   "metadata": {},
   "outputs": [
    {
     "data": {
      "image/png": "[encoded data removed]",
      "text/plain": [
       "<Figure size 432x288 with 1 Axes>"
      ]
     },
     "metadata": {
      "needs_background": "light"
     },
     "output_type": "display_data"
    }
   ],
   "source": [
    "sns.barplot(x='city',y='id',data=e)\n",
    "plt.xticks(rotation=45)\n",
    "plt.show()\n",
    "\n",
    "\n",
    "#This graph depicts the cities graded as Bad wrt the properties."
   ]
  },
  {
   "cell_type": "markdown",
   "metadata": {},
   "source": [
    "## I have used both KNN and K-Means clustering, I know that K-means clustering is unsupervised and works only with unlabelled data.But I have used it still."
   ]
  },
  {
   "cell_type": "code",
   "execution_count": null,
   "metadata": {},
   "outputs": [],
   "source": []
  },
  {
   "cell_type": "code",
   "execution_count": null,
   "metadata": {},
   "outputs": [],
   "source": []
  },
  {
   "cell_type": "markdown",
   "metadata": {},
   "source": [
    "# What kind of classifications would help a real estate platform like Nobbas."
   ]
  },
  {
   "cell_type": "markdown",
   "metadata": {},
   "source": [
    "# Answer. According the ML models,irrespective of data,RandomForest would be the best fit for classification puposes.But in this case,I've used KNN for classification. For both RandomForest and KNN,it is achievable."
   ]
  },
  {
   "cell_type": "code",
   "execution_count": null,
   "metadata": {},
   "outputs": [],
   "source": []
  },
  {
   "cell_type": "code",
   "execution_count": null,
   "metadata": {},
   "outputs": [],
   "source": []
  },
  {
   "cell_type": "code",
   "execution_count": null,
   "metadata": {},
   "outputs": [],
   "source": []
  },
  {
   "cell_type": "code",
   "execution_count": null,
   "metadata": {},
   "outputs": [],
   "source": []
  },
  {
   "cell_type": "code",
   "execution_count": null,
   "metadata": {},
   "outputs": [],
   "source": []
  },
  {
   "cell_type": "code",
   "execution_count": null,
   "metadata": {},
   "outputs": [],
   "source": []
  },
  {
   "cell_type": "code",
   "execution_count": null,
   "metadata": {},
   "outputs": [],
   "source": []
  },
  {
   "cell_type": "code",
   "execution_count": null,
   "metadata": {},
   "outputs": [],
   "source": []
  }
 ],
 "metadata": {
  "kernelspec": {
   "display_name": "Python 3",
   "language": "python",
   "name": "python3"
  },
  "language_info": {
   "codemirror_mode": {
    "name": "ipython",
    "version": 3
   },
   "file_extension": ".py",
   "mimetype": "text/x-python",
   "name": "python",
   "nbconvert_exporter": "python",
   "pygments_lexer": "ipython3",
   "version": "3.6.8"
  }
 },
 "nbformat": 4,
 "nbformat_minor": 2
}
